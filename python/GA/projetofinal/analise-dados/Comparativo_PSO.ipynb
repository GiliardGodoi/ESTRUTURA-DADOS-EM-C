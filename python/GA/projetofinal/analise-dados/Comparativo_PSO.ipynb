{
 "cells": [
  {
   "cell_type": "code",
   "execution_count": 1,
   "metadata": {},
   "outputs": [],
   "source": [
    "import sys\n",
    "import os\n",
    "\n",
    "diretorio_imagens = os.path.join('..','img')\n",
    "diretorio_dados = os.path.join('..','data')"
   ]
  },
  {
   "cell_type": "code",
   "execution_count": 2,
   "metadata": {},
   "outputs": [
    {
     "data": {
      "text/plain": [
       "['comparativo_dejong_sphere_gbest.csv',\n",
       " 'comparativo_griewank_function_gbest.csv',\n",
       " 'comparativo_quadratic_noise_gbest.csv',\n",
       " 'comparativo_rastrigin_gbest.csv']"
      ]
     },
     "execution_count": 2,
     "metadata": {},
     "output_type": "execute_result"
    }
   ],
   "source": [
    "arquivos = [x for x in os.listdir(diretorio_dados) if 'comparativo' in x ]\n",
    "arquivos"
   ]
  },
  {
   "cell_type": "code",
   "execution_count": 3,
   "metadata": {},
   "outputs": [],
   "source": [
    "import pandas as pd\n",
    "import numpy as np\n",
    "\n",
    "from matplotlib import pyplot as plt\n",
    "import seaborn as sns\n",
    "\n",
    "%matplotlib inline"
   ]
  },
  {
   "cell_type": "code",
   "execution_count": 4,
   "metadata": {},
   "outputs": [
    {
     "name": "stdout",
     "output_type": "stream",
     "text": [
      "comparativo_dejong_sphere_gbest.csv\n"
     ]
    },
    {
     "data": {
      "text/html": [
       "<div>\n",
       "<style scoped>\n",
       "    .dataframe tbody tr th:only-of-type {\n",
       "        vertical-align: middle;\n",
       "    }\n",
       "\n",
       "    .dataframe tbody tr th {\n",
       "        vertical-align: top;\n",
       "    }\n",
       "\n",
       "    .dataframe thead th {\n",
       "        text-align: right;\n",
       "    }\n",
       "</style>\n",
       "<table border=\"1\" class=\"dataframe\">\n",
       "  <thead>\n",
       "    <tr style=\"text-align: right;\">\n",
       "      <th></th>\n",
       "      <th>PSO-padrao</th>\n",
       "      <th>PSO-linear</th>\n",
       "      <th>PSO-constriction</th>\n",
       "      <th>PSO-avg</th>\n",
       "    </tr>\n",
       "  </thead>\n",
       "  <tbody>\n",
       "    <tr>\n",
       "      <th>min</th>\n",
       "      <td>0.000002</td>\n",
       "      <td>125.571929</td>\n",
       "      <td>117.768485</td>\n",
       "      <td>0.0</td>\n",
       "    </tr>\n",
       "    <tr>\n",
       "      <th>max</th>\n",
       "      <td>0.409256</td>\n",
       "      <td>212.723712</td>\n",
       "      <td>195.692909</td>\n",
       "      <td>0.0</td>\n",
       "    </tr>\n",
       "    <tr>\n",
       "      <th>mean</th>\n",
       "      <td>0.041030</td>\n",
       "      <td>172.071719</td>\n",
       "      <td>167.909470</td>\n",
       "      <td>0.0</td>\n",
       "    </tr>\n",
       "    <tr>\n",
       "      <th>std</th>\n",
       "      <td>0.088636</td>\n",
       "      <td>17.871024</td>\n",
       "      <td>15.860179</td>\n",
       "      <td>0.0</td>\n",
       "    </tr>\n",
       "  </tbody>\n",
       "</table>\n",
       "</div>"
      ],
      "text/plain": [
       "      PSO-padrao  PSO-linear  PSO-constriction  PSO-avg\n",
       "min     0.000002  125.571929        117.768485      0.0\n",
       "max     0.409256  212.723712        195.692909      0.0\n",
       "mean    0.041030  172.071719        167.909470      0.0\n",
       "std     0.088636   17.871024         15.860179      0.0"
      ]
     },
     "execution_count": 4,
     "metadata": {},
     "output_type": "execute_result"
    }
   ],
   "source": [
    "f = arquivos[0]\n",
    "print(f)\n",
    "arquivo = os.path.join(diretorio_dados,f)\n",
    "\n",
    "df = pd.read_csv(arquivo,index_col=0)\n",
    "\n",
    "df_st = df.describe()\n",
    "\n",
    "df_st.loc[['min','max', 'mean','std']]"
   ]
  },
  {
   "cell_type": "code",
   "execution_count": 5,
   "metadata": {},
   "outputs": [
    {
     "name": "stdout",
     "output_type": "stream",
     "text": [
      "comparativo_griewank_function_gbest.csv\n"
     ]
    },
    {
     "data": {
      "text/html": [
       "<div>\n",
       "<style scoped>\n",
       "    .dataframe tbody tr th:only-of-type {\n",
       "        vertical-align: middle;\n",
       "    }\n",
       "\n",
       "    .dataframe tbody tr th {\n",
       "        vertical-align: top;\n",
       "    }\n",
       "\n",
       "    .dataframe thead th {\n",
       "        text-align: right;\n",
       "    }\n",
       "</style>\n",
       "<table border=\"1\" class=\"dataframe\">\n",
       "  <thead>\n",
       "    <tr style=\"text-align: right;\">\n",
       "      <th></th>\n",
       "      <th>PSO-padrao</th>\n",
       "      <th>PSO-linear</th>\n",
       "      <th>PSO-constriction</th>\n",
       "      <th>PSO-avg</th>\n",
       "    </tr>\n",
       "  </thead>\n",
       "  <tbody>\n",
       "    <tr>\n",
       "      <th>min</th>\n",
       "      <td>0.000016</td>\n",
       "      <td>1.033585</td>\n",
       "      <td>1.032593</td>\n",
       "      <td>0.000000</td>\n",
       "    </tr>\n",
       "    <tr>\n",
       "      <th>max</th>\n",
       "      <td>0.082072</td>\n",
       "      <td>1.051136</td>\n",
       "      <td>1.050801</td>\n",
       "      <td>0.069438</td>\n",
       "    </tr>\n",
       "    <tr>\n",
       "      <th>mean</th>\n",
       "      <td>0.010439</td>\n",
       "      <td>1.042427</td>\n",
       "      <td>1.040706</td>\n",
       "      <td>0.009213</td>\n",
       "    </tr>\n",
       "    <tr>\n",
       "      <th>std</th>\n",
       "      <td>0.016650</td>\n",
       "      <td>0.004065</td>\n",
       "      <td>0.004227</td>\n",
       "      <td>0.014291</td>\n",
       "    </tr>\n",
       "  </tbody>\n",
       "</table>\n",
       "</div>"
      ],
      "text/plain": [
       "      PSO-padrao  PSO-linear  PSO-constriction   PSO-avg\n",
       "min     0.000016    1.033585          1.032593  0.000000\n",
       "max     0.082072    1.051136          1.050801  0.069438\n",
       "mean    0.010439    1.042427          1.040706  0.009213\n",
       "std     0.016650    0.004065          0.004227  0.014291"
      ]
     },
     "execution_count": 5,
     "metadata": {},
     "output_type": "execute_result"
    }
   ],
   "source": [
    "f = arquivos[1]\n",
    "print(f)\n",
    "arquivo = os.path.join(diretorio_dados,f)\n",
    "\n",
    "df = pd.read_csv(arquivo,index_col=0)\n",
    "\n",
    "df_st = df.describe()\n",
    "\n",
    "df_st.loc[['min','max', 'mean','std']]"
   ]
  },
  {
   "cell_type": "code",
   "execution_count": 6,
   "metadata": {},
   "outputs": [
    {
     "name": "stdout",
     "output_type": "stream",
     "text": [
      "comparativo_quadratic_noise_gbest.csv\n"
     ]
    },
    {
     "data": {
      "text/html": [
       "<div>\n",
       "<style scoped>\n",
       "    .dataframe tbody tr th:only-of-type {\n",
       "        vertical-align: middle;\n",
       "    }\n",
       "\n",
       "    .dataframe tbody tr th {\n",
       "        vertical-align: top;\n",
       "    }\n",
       "\n",
       "    .dataframe thead th {\n",
       "        text-align: right;\n",
       "    }\n",
       "</style>\n",
       "<table border=\"1\" class=\"dataframe\">\n",
       "  <thead>\n",
       "    <tr style=\"text-align: right;\">\n",
       "      <th></th>\n",
       "      <th>PSO-padrao</th>\n",
       "      <th>PSO-linear</th>\n",
       "      <th>PSO-constriction</th>\n",
       "      <th>PSO-avg</th>\n",
       "    </tr>\n",
       "  </thead>\n",
       "  <tbody>\n",
       "    <tr>\n",
       "      <th>min</th>\n",
       "      <td>8.669672</td>\n",
       "      <td>57.451685</td>\n",
       "      <td>71.514180</td>\n",
       "      <td>7.194231</td>\n",
       "    </tr>\n",
       "    <tr>\n",
       "      <th>max</th>\n",
       "      <td>16.279977</td>\n",
       "      <td>173.885436</td>\n",
       "      <td>170.321913</td>\n",
       "      <td>8.857481</td>\n",
       "    </tr>\n",
       "    <tr>\n",
       "      <th>mean</th>\n",
       "      <td>11.880029</td>\n",
       "      <td>125.812588</td>\n",
       "      <td>122.183242</td>\n",
       "      <td>7.934243</td>\n",
       "    </tr>\n",
       "    <tr>\n",
       "      <th>std</th>\n",
       "      <td>1.748967</td>\n",
       "      <td>22.899180</td>\n",
       "      <td>22.042192</td>\n",
       "      <td>0.328052</td>\n",
       "    </tr>\n",
       "  </tbody>\n",
       "</table>\n",
       "</div>"
      ],
      "text/plain": [
       "      PSO-padrao  PSO-linear  PSO-constriction   PSO-avg\n",
       "min     8.669672   57.451685         71.514180  7.194231\n",
       "max    16.279977  173.885436        170.321913  8.857481\n",
       "mean   11.880029  125.812588        122.183242  7.934243\n",
       "std     1.748967   22.899180         22.042192  0.328052"
      ]
     },
     "execution_count": 6,
     "metadata": {},
     "output_type": "execute_result"
    }
   ],
   "source": [
    "f = arquivos[2]\n",
    "print(f)\n",
    "arquivo = os.path.join(diretorio_dados,f)\n",
    "\n",
    "df = pd.read_csv(arquivo,index_col=0)\n",
    "\n",
    "df_st = df.describe()\n",
    "\n",
    "df_st.loc[['min','max', 'mean','std']]"
   ]
  },
  {
   "cell_type": "code",
   "execution_count": 7,
   "metadata": {},
   "outputs": [
    {
     "name": "stdout",
     "output_type": "stream",
     "text": [
      "comparativo_rastrigin_gbest.csv\n"
     ]
    },
    {
     "data": {
      "text/html": [
       "<div>\n",
       "<style scoped>\n",
       "    .dataframe tbody tr th:only-of-type {\n",
       "        vertical-align: middle;\n",
       "    }\n",
       "\n",
       "    .dataframe tbody tr th {\n",
       "        vertical-align: top;\n",
       "    }\n",
       "\n",
       "    .dataframe thead th {\n",
       "        text-align: right;\n",
       "    }\n",
       "</style>\n",
       "<table border=\"1\" class=\"dataframe\">\n",
       "  <thead>\n",
       "    <tr style=\"text-align: right;\">\n",
       "      <th></th>\n",
       "      <th>PSO-padrao</th>\n",
       "      <th>PSO-linear</th>\n",
       "      <th>PSO-constriction</th>\n",
       "      <th>PSO-avg</th>\n",
       "    </tr>\n",
       "  </thead>\n",
       "  <tbody>\n",
       "    <tr>\n",
       "      <th>min</th>\n",
       "      <td>58.716962</td>\n",
       "      <td>361.278626</td>\n",
       "      <td>354.110398</td>\n",
       "      <td>0.000000</td>\n",
       "    </tr>\n",
       "    <tr>\n",
       "      <th>max</th>\n",
       "      <td>162.194308</td>\n",
       "      <td>495.690642</td>\n",
       "      <td>476.368912</td>\n",
       "      <td>45.522048</td>\n",
       "    </tr>\n",
       "    <tr>\n",
       "      <th>mean</th>\n",
       "      <td>87.317269</td>\n",
       "      <td>436.902873</td>\n",
       "      <td>426.597364</td>\n",
       "      <td>16.624132</td>\n",
       "    </tr>\n",
       "    <tr>\n",
       "      <th>std</th>\n",
       "      <td>21.004755</td>\n",
       "      <td>24.735689</td>\n",
       "      <td>25.479978</td>\n",
       "      <td>10.760495</td>\n",
       "    </tr>\n",
       "  </tbody>\n",
       "</table>\n",
       "</div>"
      ],
      "text/plain": [
       "      PSO-padrao  PSO-linear  PSO-constriction    PSO-avg\n",
       "min    58.716962  361.278626        354.110398   0.000000\n",
       "max   162.194308  495.690642        476.368912  45.522048\n",
       "mean   87.317269  436.902873        426.597364  16.624132\n",
       "std    21.004755   24.735689         25.479978  10.760495"
      ]
     },
     "execution_count": 7,
     "metadata": {},
     "output_type": "execute_result"
    }
   ],
   "source": [
    "f = arquivos[3]\n",
    "print(f)\n",
    "arquivo = os.path.join(diretorio_dados,f)\n",
    "\n",
    "df = pd.read_csv(arquivo,index_col=0)\n",
    "\n",
    "df_st = df.describe()\n",
    "\n",
    "df_st.loc[['min','max', 'mean','std']]"
   ]
  },
  {
   "cell_type": "code",
   "execution_count": null,
   "metadata": {},
   "outputs": [],
   "source": []
  }
 ],
 "metadata": {
  "kernelspec": {
   "display_name": "Python 3",
   "language": "python",
   "name": "python3"
  },
  "language_info": {
   "codemirror_mode": {
    "name": "ipython",
    "version": 3
   },
   "file_extension": ".py",
   "mimetype": "text/x-python",
   "name": "python",
   "nbconvert_exporter": "python",
   "pygments_lexer": "ipython3",
   "version": "3.7.3"
  }
 },
 "nbformat": 4,
 "nbformat_minor": 2
}
