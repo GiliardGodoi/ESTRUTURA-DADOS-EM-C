{
 "cells": [
  {
   "cell_type": "code",
   "execution_count": 1,
   "metadata": {},
   "outputs": [],
   "source": [
    "import sys\n",
    "import os\n",
    "\n",
    "diretorio_imagens = os.path.join('..','img')\n",
    "diretorio_dados = os.path.join('..','data')"
   ]
  },
  {
   "cell_type": "code",
   "execution_count": 2,
   "metadata": {},
   "outputs": [],
   "source": [
    "arquivos = [x for x in os.listdir(diretorio_dados) if 'comparativo' in x ]\n",
    "arquivos"
   ]
  },
  {
   "cell_type": "code",
   "execution_count": 3,
   "metadata": {},
   "outputs": [],
   "source": [
    "import pandas as pd\n",
    "import numpy as np\n",
    "\n",
    "from matplotlib import pyplot as plt\n",
    "import seaborn as sns\n",
    "\n",
    "%matplotlib inline"
   ]
  },
  {
   "cell_type": "code",
   "execution_count": 4,
   "metadata": {},
   "outputs": [
    {
     "name": "stdout",
     "output_type": "stream",
     "text": [
      "comparativo_dejong_sphere_gbest.csv\n"
     ]
    },
    {
     "data": {
      "text/html": [
       "<div>\n",
       "<style scoped>\n",
       "    .dataframe tbody tr th:only-of-type {\n",
       "        vertical-align: middle;\n",
       "    }\n",
       "\n",
       "    .dataframe tbody tr th {\n",
       "        vertical-align: top;\n",
       "    }\n",
       "\n",
       "    .dataframe thead th {\n",
       "        text-align: right;\n",
       "    }\n",
       "</style>\n",
       "<table border=\"1\" class=\"dataframe\">\n",
       "  <thead>\n",
       "    <tr style=\"text-align: right;\">\n",
       "      <th></th>\n",
       "      <th>PSO-padrao</th>\n",
       "      <th>PSO-linear</th>\n",
       "      <th>PSO-constriction</th>\n",
       "      <th>PSO-avg</th>\n",
       "    </tr>\n",
       "  </thead>\n",
       "  <tbody>\n",
       "    <tr>\n",
       "      <th>min</th>\n",
       "      <td>0.000036</td>\n",
       "      <td>7.031999e-23</td>\n",
       "      <td>17.413397</td>\n",
       "      <td>0.0</td>\n",
       "    </tr>\n",
       "    <tr>\n",
       "      <th>max</th>\n",
       "      <td>0.223388</td>\n",
       "      <td>2.749821e-15</td>\n",
       "      <td>49.290397</td>\n",
       "      <td>0.0</td>\n",
       "    </tr>\n",
       "    <tr>\n",
       "      <th>mean</th>\n",
       "      <td>0.014906</td>\n",
       "      <td>1.428799e-16</td>\n",
       "      <td>30.552050</td>\n",
       "      <td>0.0</td>\n",
       "    </tr>\n",
       "    <tr>\n",
       "      <th>std</th>\n",
       "      <td>0.037930</td>\n",
       "      <td>4.416711e-16</td>\n",
       "      <td>7.249433</td>\n",
       "      <td>0.0</td>\n",
       "    </tr>\n",
       "  </tbody>\n",
       "</table>\n",
       "</div>"
      ],
      "text/plain": [
       "      PSO-padrao    PSO-linear  PSO-constriction  PSO-avg\n",
       "min     0.000036  7.031999e-23         17.413397      0.0\n",
       "max     0.223388  2.749821e-15         49.290397      0.0\n",
       "mean    0.014906  1.428799e-16         30.552050      0.0\n",
       "std     0.037930  4.416711e-16          7.249433      0.0"
      ]
     },
     "execution_count": 4,
     "metadata": {},
     "output_type": "execute_result"
    }
   ],
   "source": [
    "f = arquivos[0]\n",
    "print(f)\n",
    "arquivo = os.path.join(diretorio_dados,f)\n",
    "\n",
    "df = pd.read_csv(arquivo,index_col=0)\n",
    "\n",
    "df_st = df.describe()\n",
    "\n",
    "df_st.loc[['min','max', 'mean','std']]"
   ]
  },
  {
   "cell_type": "code",
   "execution_count": 5,
   "metadata": {},
   "outputs": [
    {
     "name": "stdout",
     "output_type": "stream",
     "text": [
      "comparativo_griewank_function_gbest.csv\n"
     ]
    },
    {
     "data": {
      "text/html": [
       "<div>\n",
       "<style scoped>\n",
       "    .dataframe tbody tr th:only-of-type {\n",
       "        vertical-align: middle;\n",
       "    }\n",
       "\n",
       "    .dataframe tbody tr th {\n",
       "        vertical-align: top;\n",
       "    }\n",
       "\n",
       "    .dataframe thead th {\n",
       "        text-align: right;\n",
       "    }\n",
       "</style>\n",
       "<table border=\"1\" class=\"dataframe\">\n",
       "  <thead>\n",
       "    <tr style=\"text-align: right;\">\n",
       "      <th></th>\n",
       "      <th>PSO-padrao</th>\n",
       "      <th>PSO-linear</th>\n",
       "      <th>PSO-constriction</th>\n",
       "      <th>PSO-avg</th>\n",
       "    </tr>\n",
       "  </thead>\n",
       "  <tbody>\n",
       "    <tr>\n",
       "      <th>min</th>\n",
       "      <td>0.000002</td>\n",
       "      <td>0.000000</td>\n",
       "      <td>0.367332</td>\n",
       "      <td>0.000000</td>\n",
       "    </tr>\n",
       "    <tr>\n",
       "      <th>max</th>\n",
       "      <td>0.089753</td>\n",
       "      <td>0.039417</td>\n",
       "      <td>0.946513</td>\n",
       "      <td>0.040953</td>\n",
       "    </tr>\n",
       "    <tr>\n",
       "      <th>mean</th>\n",
       "      <td>0.012345</td>\n",
       "      <td>0.010833</td>\n",
       "      <td>0.727769</td>\n",
       "      <td>0.004863</td>\n",
       "    </tr>\n",
       "    <tr>\n",
       "      <th>std</th>\n",
       "      <td>0.018912</td>\n",
       "      <td>0.010616</td>\n",
       "      <td>0.104606</td>\n",
       "      <td>0.009436</td>\n",
       "    </tr>\n",
       "  </tbody>\n",
       "</table>\n",
       "</div>"
      ],
      "text/plain": [
       "      PSO-padrao  PSO-linear  PSO-constriction   PSO-avg\n",
       "min     0.000002    0.000000          0.367332  0.000000\n",
       "max     0.089753    0.039417          0.946513  0.040953\n",
       "mean    0.012345    0.010833          0.727769  0.004863\n",
       "std     0.018912    0.010616          0.104606  0.009436"
      ]
     },
     "execution_count": 5,
     "metadata": {},
     "output_type": "execute_result"
    }
   ],
   "source": [
    "f = arquivos[1]\n",
    "print(f)\n",
    "arquivo = os.path.join(diretorio_dados,f)\n",
    "\n",
    "df = pd.read_csv(arquivo,index_col=0)\n",
    "\n",
    "df_st = df.describe()\n",
    "\n",
    "df_st.loc[['min','max', 'mean','std']]"
   ]
  },
  {
   "cell_type": "code",
   "execution_count": 6,
   "metadata": {},
   "outputs": [
    {
     "name": "stdout",
     "output_type": "stream",
     "text": [
      "comparativo_quadratic_noise_gbest.csv\n"
     ]
    },
    {
     "data": {
      "text/html": [
       "<div>\n",
       "<style scoped>\n",
       "    .dataframe tbody tr th:only-of-type {\n",
       "        vertical-align: middle;\n",
       "    }\n",
       "\n",
       "    .dataframe tbody tr th {\n",
       "        vertical-align: top;\n",
       "    }\n",
       "\n",
       "    .dataframe thead th {\n",
       "        text-align: right;\n",
       "    }\n",
       "</style>\n",
       "<table border=\"1\" class=\"dataframe\">\n",
       "  <thead>\n",
       "    <tr style=\"text-align: right;\">\n",
       "      <th></th>\n",
       "      <th>PSO-padrao</th>\n",
       "      <th>PSO-linear</th>\n",
       "      <th>PSO-constriction</th>\n",
       "      <th>PSO-avg</th>\n",
       "    </tr>\n",
       "  </thead>\n",
       "  <tbody>\n",
       "    <tr>\n",
       "      <th>min</th>\n",
       "      <td>9.319878</td>\n",
       "      <td>8.543240</td>\n",
       "      <td>8.734888</td>\n",
       "      <td>7.236583</td>\n",
       "    </tr>\n",
       "    <tr>\n",
       "      <th>max</th>\n",
       "      <td>16.357215</td>\n",
       "      <td>12.532277</td>\n",
       "      <td>19.815284</td>\n",
       "      <td>8.760753</td>\n",
       "    </tr>\n",
       "    <tr>\n",
       "      <th>mean</th>\n",
       "      <td>11.789851</td>\n",
       "      <td>10.454454</td>\n",
       "      <td>14.757276</td>\n",
       "      <td>7.980948</td>\n",
       "    </tr>\n",
       "    <tr>\n",
       "      <th>std</th>\n",
       "      <td>1.616329</td>\n",
       "      <td>0.992810</td>\n",
       "      <td>2.745740</td>\n",
       "      <td>0.366550</td>\n",
       "    </tr>\n",
       "  </tbody>\n",
       "</table>\n",
       "</div>"
      ],
      "text/plain": [
       "      PSO-padrao  PSO-linear  PSO-constriction   PSO-avg\n",
       "min     9.319878    8.543240          8.734888  7.236583\n",
       "max    16.357215   12.532277         19.815284  8.760753\n",
       "mean   11.789851   10.454454         14.757276  7.980948\n",
       "std     1.616329    0.992810          2.745740  0.366550"
      ]
     },
     "execution_count": 6,
     "metadata": {},
     "output_type": "execute_result"
    }
   ],
   "source": [
    "f = arquivos[2]\n",
    "print(f)\n",
    "arquivo = os.path.join(diretorio_dados,f)\n",
    "\n",
    "df = pd.read_csv(arquivo,index_col=0)\n",
    "\n",
    "df_st = df.describe()\n",
    "\n",
    "df_st.loc[['min','max', 'mean','std']]"
   ]
  },
  {
   "cell_type": "code",
   "execution_count": 7,
   "metadata": {},
   "outputs": [
    {
     "name": "stdout",
     "output_type": "stream",
     "text": [
      "comparativo_rastrigin_gbest.csv\n"
     ]
    },
    {
     "data": {
      "text/html": [
       "<div>\n",
       "<style scoped>\n",
       "    .dataframe tbody tr th:only-of-type {\n",
       "        vertical-align: middle;\n",
       "    }\n",
       "\n",
       "    .dataframe tbody tr th {\n",
       "        vertical-align: top;\n",
       "    }\n",
       "\n",
       "    .dataframe thead th {\n",
       "        text-align: right;\n",
       "    }\n",
       "</style>\n",
       "<table border=\"1\" class=\"dataframe\">\n",
       "  <thead>\n",
       "    <tr style=\"text-align: right;\">\n",
       "      <th></th>\n",
       "      <th>PSO-padrao</th>\n",
       "      <th>PSO-linear</th>\n",
       "      <th>PSO-constriction</th>\n",
       "      <th>PSO-avg</th>\n",
       "    </tr>\n",
       "  </thead>\n",
       "  <tbody>\n",
       "    <tr>\n",
       "      <th>min</th>\n",
       "      <td>50.845323</td>\n",
       "      <td>35.349721</td>\n",
       "      <td>101.295994</td>\n",
       "      <td>0.000000</td>\n",
       "    </tr>\n",
       "    <tr>\n",
       "      <th>max</th>\n",
       "      <td>138.361468</td>\n",
       "      <td>113.721727</td>\n",
       "      <td>195.306654</td>\n",
       "      <td>50.867060</td>\n",
       "    </tr>\n",
       "    <tr>\n",
       "      <th>mean</th>\n",
       "      <td>90.320351</td>\n",
       "      <td>65.215830</td>\n",
       "      <td>135.252575</td>\n",
       "      <td>19.060626</td>\n",
       "    </tr>\n",
       "    <tr>\n",
       "      <th>std</th>\n",
       "      <td>17.538878</td>\n",
       "      <td>18.884718</td>\n",
       "      <td>20.594136</td>\n",
       "      <td>11.566821</td>\n",
       "    </tr>\n",
       "  </tbody>\n",
       "</table>\n",
       "</div>"
      ],
      "text/plain": [
       "      PSO-padrao  PSO-linear  PSO-constriction    PSO-avg\n",
       "min    50.845323   35.349721        101.295994   0.000000\n",
       "max   138.361468  113.721727        195.306654  50.867060\n",
       "mean   90.320351   65.215830        135.252575  19.060626\n",
       "std    17.538878   18.884718         20.594136  11.566821"
      ]
     },
     "execution_count": 7,
     "metadata": {},
     "output_type": "execute_result"
    }
   ],
   "source": [
    "f = arquivos[3]\n",
    "print(f)\n",
    "arquivo = os.path.join(diretorio_dados,f)\n",
    "\n",
    "df = pd.read_csv(arquivo,index_col=0)\n",
    "\n",
    "df_st = df.describe()\n",
    "\n",
    "df_st.loc[['min','max', 'mean','std']]"
   ]
  }
 ],
 "metadata": {
  "kernelspec": {
   "display_name": "Python 3",
   "language": "python",
   "name": "python3"
  },
  "language_info": {
   "codemirror_mode": {
    "name": "ipython",
    "version": 3
   },
   "file_extension": ".py",
   "mimetype": "text/x-python",
   "name": "python",
   "nbconvert_exporter": "python",
   "pygments_lexer": "ipython3",
   "version": "3.7.3"
  }
 },
 "nbformat": 4,
 "nbformat_minor": 2
}
